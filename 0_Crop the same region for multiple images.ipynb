{
 "cells": [
  {
   "cell_type": "code",
   "execution_count": null,
   "id": "3634e77b",
   "metadata": {},
   "outputs": [],
   "source": [
    "\"\"\"\n",
    "    This is not a necessary step. However, if you want to crop the scale bar or legend out of a set of images. You can use these.\n",
    "\n",
    "\n",
    "\"\"\""
   ]
  },
  {
   "cell_type": "code",
   "execution_count": null,
   "id": "dd503342",
   "metadata": {},
   "outputs": [],
   "source": [
    "\"\"\"\n",
    "    This project provides a set of Python scripts to crop a specific region from a set of images using OpenCV. The key functionality includes:\n",
    "\n",
    "    Image Selection and Cropping:\n",
    "        select_crop_region(image_path): Allows the user to interactively select a region of interest (ROI) from a reference image.\n",
    "        crop_image(image_path, crop_region): Crops the selected region from each image in the list.\n",
    "\n",
    "    Main Function:\n",
    "        The script iterates over multiple images, applies the same crop region, and saves the cropped images, replacing the originals.\n",
    "\n",
    "Usage:\n",
    "\n",
    "    Define the paths to your images.\n",
    "    Run the script.\n",
    "    Select the region of interest from the first image.\n",
    "    All images will be cropped accordingly.\n",
    "\n",
    "\"\"\""
   ]
  },
  {
   "cell_type": "code",
   "execution_count": 1,
   "id": "16cdd8d8",
   "metadata": {},
   "outputs": [
    {
     "name": "stdout",
     "output_type": "stream",
     "text": [
      "Using matplotlib backend: <object object at 0x11198f510>\n"
     ]
    }
   ],
   "source": [
    "%matplotlib"
   ]
  },
  {
   "cell_type": "markdown",
   "id": "71028c83",
   "metadata": {},
   "source": [
    "# Crop"
   ]
  },
  {
   "cell_type": "code",
   "execution_count": 1,
   "id": "77c5a4d7",
   "metadata": {},
   "outputs": [],
   "source": [
    "import cv2\n",
    "import os\n",
    "\n",
    "def select_crop_region(image_path):\n",
    "    # Load the image\n",
    "    image = cv2.imread(image_path)\n",
    "    \n",
    "    # Check if the image is loaded correctly\n",
    "    if image is None:\n",
    "        print(f\"Error: Unable to load image at {image_path}\")\n",
    "        return None\n",
    "    \n",
    "    # Create a named window with adjustable size\n",
    "    window_name = \"Select Crop Region\"\n",
    "    cv2.namedWindow(window_name, cv2.WINDOW_NORMAL)\n",
    "    cv2.resizeWindow(window_name, 800, 600)\n",
    "    \n",
    "    # Select ROI (Region of Interest)\n",
    "    print(\"Select the crop region and press Enter or Space to confirm.\")\n",
    "    r = cv2.selectROI(window_name, image, fromCenter=False, showCrosshair=True)\n",
    "    \n",
    "    # Check if a valid region is selected\n",
    "    if r[2] == 0 or r[3] == 0:\n",
    "        print(\"Error: No valid region selected.\")\n",
    "        return None\n",
    "    \n",
    "    # Close the window and clean up\n",
    "    cv2.destroyWindow(window_name)\n",
    "    print(f\"Crop region selected: {r}\")\n",
    "    \n",
    "    # Return the selected region (x, y, w, h)\n",
    "    return r\n",
    "\n",
    "def crop_image(image_path, crop_region):\n",
    "    # Load the image\n",
    "    image = cv2.imread(image_path)\n",
    "    \n",
    "    # Check if the image is loaded correctly\n",
    "    if image is None:\n",
    "        print(f\"Error: Unable to load image at {image_path}\")\n",
    "        return None\n",
    "    \n",
    "    # Extract the crop region\n",
    "    x, y, w, h = crop_region\n",
    "    cropped_image = image[y:y+h, x:x+w]\n",
    "    \n",
    "    # Save the cropped image, replacing the original\n",
    "    cv2.imwrite(image_path, cropped_image)\n",
    "    print(f\"Cropped image saved: {image_path}\")\n",
    "    \n",
    "    return image_path\n",
    "\n",
    "def list_images(folder_path):\n",
    "    # List all images in the folder\n",
    "    image_files = [f for f in os.listdir(folder_path) if f.lower().endswith(('.png', '.jpg', '.jpeg', '.bmp', '.tiff'))]\n",
    "    print(\"Images in the folder:\")\n",
    "    for image in image_files:\n",
    "        print(image)\n",
    "    return image_files\n",
    "\n",
    "def batch_crop_images(folder_path, crop_region):\n",
    "    # List and print out all images in the folder\n",
    "    image_files = list_images(folder_path)\n",
    "    \n",
    "    # Apply the crop to each image in the folder\n",
    "    for filename in image_files:\n",
    "        file_path = os.path.join(folder_path, filename)\n",
    "        crop_image(file_path, crop_region)\n",
    "        print(f\"Cropped {filename} using the selected region.\")"
   ]
  },
  {
   "cell_type": "code",
   "execution_count": 4,
   "id": "0168f873",
   "metadata": {},
   "outputs": [
    {
     "name": "stdout",
     "output_type": "stream",
     "text": [
      "Images in the folder:\n",
      "USU-4169B 250-355 Al Map.jpeg\n",
      "USU-4169B 250-355 Ca Map.jpeg\n",
      "USU-4169B 250-355 K Map.jpeg\n",
      "USU-4169B 250-355 Map.bmp\n",
      "USU-4169B 250-355 Na Map.jpeg\n",
      "USU-4169B 250-355 Si Map.jpeg\n"
     ]
    },
    {
     "data": {
      "text/plain": [
       "['USU-4169B 250-355 Al Map.jpeg',\n",
       " 'USU-4169B 250-355 Ca Map.jpeg',\n",
       " 'USU-4169B 250-355 K Map.jpeg',\n",
       " 'USU-4169B 250-355 Map.bmp',\n",
       " 'USU-4169B 250-355 Na Map.jpeg',\n",
       " 'USU-4169B 250-355 Si Map.jpeg']"
      ]
     },
     "execution_count": 4,
     "metadata": {},
     "output_type": "execute_result"
    }
   ],
   "source": [
    "# Usage example:\n",
    "# List all images in the folder first\n",
    "folder_path = \"To_be_Aligned\"\n",
    "list_images(folder_path)"
   ]
  },
  {
   "cell_type": "markdown",
   "id": "122dd899",
   "metadata": {},
   "source": [
    "If your single elementary images have scale bars need to be cropped out together, you can put the composite image in the `SafeRoom` folder and run the following script."
   ]
  },
  {
   "cell_type": "code",
   "execution_count": 3,
   "id": "98c69f9a",
   "metadata": {},
   "outputs": [
    {
     "name": "stdout",
     "output_type": "stream",
     "text": [
      "Select the crop region and press Enter or Space to confirm.\n",
      "Crop region selected: (317, 0, 1421, 1404)\n",
      "Images in the folder:\n",
      "USU-4169B 250-355 Al Map.jpeg\n",
      "USU-4169B 250-355 Ca Map.jpeg\n",
      "USU-4169B 250-355 K Map.jpeg\n",
      "USU-4169B 250-355 Na Map.jpeg\n",
      "USU-4169B 250-355 Si Map.jpeg\n",
      "Cropped image saved: To_be_Aligned\\USU-4169B 250-355 Al Map.jpeg\n",
      "Cropped USU-4169B 250-355 Al Map.jpeg using the selected region.\n",
      "Cropped image saved: To_be_Aligned\\USU-4169B 250-355 Ca Map.jpeg\n",
      "Cropped USU-4169B 250-355 Ca Map.jpeg using the selected region.\n",
      "Cropped image saved: To_be_Aligned\\USU-4169B 250-355 K Map.jpeg\n",
      "Cropped USU-4169B 250-355 K Map.jpeg using the selected region.\n",
      "Cropped image saved: To_be_Aligned\\USU-4169B 250-355 Na Map.jpeg\n",
      "Cropped USU-4169B 250-355 Na Map.jpeg using the selected region.\n",
      "Cropped image saved: To_be_Aligned\\USU-4169B 250-355 Si Map.jpeg\n",
      "Cropped USU-4169B 250-355 Si Map.jpeg using the selected region.\n"
     ]
    }
   ],
   "source": [
    "# Select crop region for a sample image\n",
    "sample_image_path = r\"To_be_Aligned\\USU-4169B 250-355 Si Map.jpeg\"\n",
    "crop_region = select_crop_region(sample_image_path)\n",
    "\n",
    "# If a crop region is selected, apply it to all images in the folder\n",
    "if crop_region:\n",
    "    batch_crop_images(folder_path, crop_region)"
   ]
  },
  {
   "cell_type": "markdown",
   "id": "8ef5e635",
   "metadata": {},
   "source": [
    "# If the image size in this pair is not equal, or different a lot, run the resize here and then go to the next script to align"
   ]
  },
  {
   "cell_type": "code",
   "execution_count": 5,
   "id": "311b5808",
   "metadata": {},
   "outputs": [],
   "source": [
    "import cv2\n",
    "import os\n",
    "import numpy as np\n",
    "\n",
    "# Function to resize and pad/crop an image to match the base image's size\n",
    "def resize_to_match_base(image_to_align, base_image):\n",
    "    base_h, base_w = base_image.shape[:2]\n",
    "    align_h, align_w = image_to_align.shape[:2]\n",
    "\n",
    "    # If resizing is not needed (same dimensions), return as is\n",
    "    if base_h == align_h and base_w == align_w:\n",
    "        return image_to_align, None\n",
    "\n",
    "    # Calculate aspect ratios\n",
    "    aspect_ratio_base = base_w / base_h\n",
    "    aspect_ratio_align = align_w / align_h\n",
    "\n",
    "    # Resize with aspect ratio preservation\n",
    "    if aspect_ratio_align > aspect_ratio_base:\n",
    "        new_w = base_w\n",
    "        new_h = int((align_h * base_w) / align_w)\n",
    "    else:\n",
    "        new_h = base_h\n",
    "        new_w = int((align_w * base_h) / align_h)\n",
    "\n",
    "    # Resize the image\n",
    "    resized_image = cv2.resize(image_to_align, (new_w, new_h), interpolation=cv2.INTER_LINEAR)\n",
    "\n",
    "    # Pad or crop to fit exact base dimensions\n",
    "    padded_image = np.zeros((base_h, base_w, 3), dtype=np.uint8)  # 3 channels assumed (BGR)\n",
    "    y_offset = (base_h - new_h) // 2\n",
    "    x_offset = (base_w - new_w) // 2\n",
    "    padded_image[y_offset:y_offset+new_h, x_offset:x_offset+new_w] = resized_image\n",
    "\n",
    "    return padded_image, (new_w, new_h, y_offset, x_offset)\n",
    "\n",
    "# Function to apply recorded padding and resizing to the rest of the images\n",
    "def apply_to_other_images(base_image_path, target_image_path, output_folder):\n",
    "    # Load the base and target images\n",
    "    base_image = cv2.imread(base_image_path)\n",
    "    target_image = cv2.imread(target_image_path)\n",
    "\n",
    "    if base_image is None or target_image is None:\n",
    "        print(\"Error loading one of the images.\")\n",
    "        return\n",
    "\n",
    "    # Resize and pad/crop the target image to match the base image\n",
    "    resized_image, resize_params = resize_to_match_base(target_image, base_image)\n",
    "    \n",
    "    # Save the resized target image to output\n",
    "    if not os.path.exists(output_folder):\n",
    "        os.makedirs(output_folder)\n",
    "    target_output_path = os.path.join(output_folder, os.path.basename(target_image_path))\n",
    "    cv2.imwrite(target_output_path, resized_image)\n",
    "    print(f\"Saved resized target image: {target_output_path}\")\n",
    "\n",
    "    # Process and save other images in the folder\n",
    "    image_folder = os.path.dirname(target_image_path)\n",
    "    for filename in os.listdir(image_folder):\n",
    "        file_path = os.path.join(image_folder, filename)\n",
    "        if file_path == target_image_path or not filename.lower().endswith(('.png', '.jpg', '.jpeg')):\n",
    "            continue  # Skip the target image itself or non-image files\n",
    "\n",
    "        image = cv2.imread(file_path)\n",
    "        if image is None:\n",
    "            print(f\"Error loading image: {file_path}\")\n",
    "            continue\n",
    "\n",
    "        # Only resize without recording parameters on subsequent images\n",
    "        resized_image, _ = resize_to_match_base(image, base_image)\n",
    "        output_image_path = os.path.join(output_folder, filename)\n",
    "        cv2.imwrite(output_image_path, resized_image)\n",
    "        print(f\"Saved resized image: {output_image_path}\")\n",
    "\n",
    "    print(f\"All images processed and saved in directory: {output_folder}\")"
   ]
  },
  {
   "cell_type": "code",
   "execution_count": 8,
   "id": "2636ba16",
   "metadata": {},
   "outputs": [],
   "source": [
    "output_folder = 'To_be_Aligned/SafeRoom'"
   ]
  },
  {
   "cell_type": "code",
   "execution_count": 11,
   "id": "94d1a1cc",
   "metadata": {},
   "outputs": [
    {
     "name": "stdout",
     "output_type": "stream",
     "text": [
      "Saved resized target image: To_be_Aligned/SafeRoom\\USU-4162A 250-355 Si Map.jpeg\n",
      "Saved resized image: To_be_Aligned/SafeRoom\\USU-4162A 250-355 Al Map.jpeg\n",
      "Saved resized image: To_be_Aligned/SafeRoom\\USU-4162A 250-355 Ca Map.jpeg\n",
      "Saved resized image: To_be_Aligned/SafeRoom\\USU-4162A 250-355 Elemental Map.jpeg\n",
      "Saved resized image: To_be_Aligned/SafeRoom\\USU-4162A 250-355 Fe Map.jpeg\n",
      "Saved resized image: To_be_Aligned/SafeRoom\\USU-4162A 250-355 K Map.jpeg\n",
      "Saved resized image: To_be_Aligned/SafeRoom\\USU-4162A 250-355 Na Map.jpeg\n",
      "All images processed and saved in directory: To_be_Aligned/SafeRoom\n"
     ]
    }
   ],
   "source": [
    "# Usage example:\n",
    "base_image_path = r\"To_be_Aligned\\USU-4162A 250-355 Elemental Map.jpeg\"\n",
    "target_image_path = r\"To_be_Aligned\\USU-4162A 250-355 Si Map.jpeg\"\n",
    "apply_to_other_images(base_image_path, target_image_path, output_folder)"
   ]
  }
 ],
 "metadata": {
  "kernelspec": {
   "display_name": "d2l",
   "language": "python",
   "name": "python3"
  },
  "language_info": {
   "codemirror_mode": {
    "name": "ipython",
    "version": 3
   },
   "file_extension": ".py",
   "mimetype": "text/x-python",
   "name": "python",
   "nbconvert_exporter": "python",
   "pygments_lexer": "ipython3",
   "version": "3.8.13"
  },
  "toc": {
   "base_numbering": 1,
   "nav_menu": {},
   "number_sections": true,
   "sideBar": true,
   "skip_h1_title": false,
   "title_cell": "Table of Contents",
   "title_sidebar": "Contents",
   "toc_cell": false,
   "toc_position": {},
   "toc_section_display": true,
   "toc_window_display": false
  },
  "varInspector": {
   "cols": {
    "lenName": 16,
    "lenType": 16,
    "lenVar": 40
   },
   "kernels_config": {
    "python": {
     "delete_cmd_postfix": "",
     "delete_cmd_prefix": "del ",
     "library": "var_list.py",
     "varRefreshCmd": "print(var_dic_list())"
    },
    "r": {
     "delete_cmd_postfix": ") ",
     "delete_cmd_prefix": "rm(",
     "library": "var_list.r",
     "varRefreshCmd": "cat(var_dic_list()) "
    }
   },
   "types_to_exclude": [
    "module",
    "function",
    "builtin_function_or_method",
    "instance",
    "_Feature"
   ],
   "window_display": false
  }
 },
 "nbformat": 4,
 "nbformat_minor": 5
}
