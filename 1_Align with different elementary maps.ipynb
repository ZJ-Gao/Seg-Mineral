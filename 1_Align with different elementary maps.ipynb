{
 "cells": [
  {
   "cell_type": "code",
   "execution_count": null,
   "id": "900e6448",
   "metadata": {},
   "outputs": [],
   "source": [
    "\"\"\"\n",
    "    1. Segmentation result is based on composite/overlapping elementary map.\n",
    "    However, it needs to be manually cropped to get rid of the legend and the ones outside the EDS\n",
    "    mapping region, which is different than other single elementary maps.\n",
    "    2. Therefore, the matching adjustment is necessary to make sure the segmented coordinates obtained\n",
    "    from the composite map can be used to extract the same grain from the single elementary maps.\n",
    "\"\"\""
   ]
  },
  {
   "cell_type": "markdown",
   "id": "40c1c408",
   "metadata": {},
   "source": [
    "# Single Pair Test - with check of size discrepancy"
   ]
  },
  {
   "cell_type": "code",
   "execution_count": 4,
   "id": "9dc4bb59",
   "metadata": {},
   "outputs": [],
   "source": [
    "import os\n",
    "\n",
    "def generate_image_path_list(input_directory, keyword='Si'):\n",
    "    \"\"\"\n",
    "        keyword decides the second image in the list\n",
    "    \n",
    "    \"\"\"\n",
    "    # Get a list of all files in the input directory\n",
    "    all_files = os.listdir(input_directory)\n",
    "    \n",
    "    # Filter only image files (assuming .tiff, .png, .jpg extensions)\n",
    "    image_files = [f for f in all_files if f.endswith(('.tiff', '.png', '.jpg', '.jpeg', '.bmp'))]\n",
    "    \n",
    "    # Initialize placeholders for the special cases\n",
    "    elemental_image = None\n",
    "    keyword_image = None\n",
    "    other_images = []\n",
    "\n",
    "    # Loop through image files and classify them\n",
    "    for image_file in image_files:\n",
    "        if 'Elemental' in image_file:\n",
    "            elemental_image = image_file\n",
    "        elif keyword in image_file:\n",
    "            keyword_image = image_file\n",
    "        else:\n",
    "            other_images.append(image_file)\n",
    "\n",
    "    # Start building the final image path list\n",
    "    image_path_list = []\n",
    "\n",
    "    # Add 'Elemental' image first if it exists\n",
    "    if elemental_image:\n",
    "        image_path_list.append(os.path.join(input_directory, elemental_image))\n",
    "\n",
    "    # Add keyword-based image second if it exists\n",
    "    if keyword_image:\n",
    "        image_path_list.append(os.path.join(input_directory, keyword_image))\n",
    "\n",
    "    # Add the remaining casual images\n",
    "    for other_image in other_images:\n",
    "        image_path_list.append(os.path.join(input_directory, other_image))\n",
    "\n",
    "    # Output and print the final image path list\n",
    "    print(\"Generated Image Path List:\")\n",
    "    for path in image_path_list:\n",
    "        print(path)\n",
    "\n",
    "    return image_path_list"
   ]
  },
  {
   "cell_type": "code",
   "execution_count": 5,
   "id": "96ba45b2",
   "metadata": {},
   "outputs": [
    {
     "name": "stdout",
     "output_type": "stream",
     "text": [
      "Generated Image Path List:\n",
      "To_be_Aligned\\USU-4169B 250-355 Elemental Map.bmp\n",
      "To_be_Aligned\\USU-4169B 250-355 Si Map.jpeg\n",
      "To_be_Aligned\\USU-4169B 250-355 Al Map.jpeg\n",
      "To_be_Aligned\\USU-4169B 250-355 Ca Map.jpeg\n",
      "To_be_Aligned\\USU-4169B 250-355 K Map.jpeg\n",
      "To_be_Aligned\\USU-4169B 250-355 Na Map.jpeg\n"
     ]
    }
   ],
   "source": [
    "# Example usage:\n",
    "input_directory = 'To_be_Aligned'  # Specify your input directory\n",
    "image_paths = generate_image_path_list(input_directory)"
   ]
  },
  {
   "cell_type": "markdown",
   "id": "bf57d80e",
   "metadata": {},
   "source": [
    "# Single Pair Test"
   ]
  },
  {
   "cell_type": "code",
   "execution_count": 6,
   "id": "da06e861",
   "metadata": {},
   "outputs": [],
   "source": [
    "import cv2\n",
    "import os\n",
    "import numpy as np\n",
    "# Define the updated alignment function using affine transformation\n",
    "def align_images_with_affine(image1, image2):\n",
    "    # Convert images to grayscale\n",
    "    gray1 = cv2.cvtColor(image1, cv2.COLOR_BGR2GRAY)\n",
    "    gray2 = cv2.cvtColor(image2, cv2.COLOR_BGR2GRAY)\n",
    "\n",
    "    # Initialize ORB detector\n",
    "    orb = cv2.ORB_create(nfeatures=5000)\n",
    "\n",
    "    # Detect key points and descriptors\n",
    "    keypoints1, descriptors1 = orb.detectAndCompute(gray1, None)\n",
    "    keypoints2, descriptors2 = orb.detectAndCompute(gray2, None)\n",
    "\n",
    "    # Create BFMatcher object\n",
    "    bf = cv2.BFMatcher(cv2.NORM_HAMMING, crossCheck=True)\n",
    "\n",
    "    # Match descriptors\n",
    "    matches = bf.match(descriptors1, descriptors2)\n",
    "\n",
    "    # Sort matches by distance and retain the best ones\n",
    "    matches = sorted(matches, key=lambda x: x.distance)[:30]  # Use the top 30 matches\n",
    "\n",
    "    # Extract locations of good matches\n",
    "    points1 = np.zeros((len(matches), 2), dtype=np.float32)\n",
    "    points2 = np.zeros((len(matches), 2), dtype=np.float32)\n",
    "\n",
    "    for i, match in enumerate(matches):\n",
    "        points1[i, :] = keypoints1[match.queryIdx].pt\n",
    "        points2[i, :] = keypoints2[match.trainIdx].pt\n",
    "\n",
    "    # Find the affine transformation (instead of homography) for simplicity in alignment\n",
    "    affine_matrix, mask = cv2.estimateAffinePartial2D(points2, points1, method=cv2.RANSAC)\n",
    "\n",
    "    # Use the affine transformation to warp image2 to align with image1\n",
    "    height, width, channels = image1.shape\n",
    "    aligned_image2 = cv2.warpAffine(image2, affine_matrix, (width, height))\n",
    "\n",
    "    return aligned_image2, affine_matrix"
   ]
  },
  {
   "cell_type": "code",
   "execution_count": 7,
   "id": "2c891e73",
   "metadata": {},
   "outputs": [
    {
     "name": "stdout",
     "output_type": "stream",
     "text": [
      "All aligned images have been saved in the directory: Aligned\\USU-4169B 250-355 Elemental Map\n"
     ]
    }
   ],
   "source": [
    "# Main function\n",
    "def main():\n",
    "    \"\"\"\n",
    "    The first in the image list is the composite image;\n",
    "    the second is the main referenced image.\n",
    "    \"\"\"\n",
    "    # Read the images\n",
    "    images = [cv2.imread(path) for path in image_paths]\n",
    "    \n",
    "    # Use the first two images for initial alignment calculation\n",
    "    composite_image = images[0]\n",
    "    imageA = images[1]\n",
    "    aligned_imageA, affine_matrix = align_images_with_affine(composite_image, imageA)\n",
    "\n",
    "    # Create output directory named after the composite image under 'Aligned'\n",
    "    composite_image_name = os.path.basename(image_paths[0]).split('.')[0]\n",
    "    output_dir = os.path.join('Aligned', composite_image_name)\n",
    "    if not os.path.exists(output_dir):\n",
    "        os.makedirs(output_dir)\n",
    "\n",
    "    # Save the aligned composite image and aligned imageA\n",
    "    cv2.imwrite(os.path.join(output_dir, f\"{composite_image_name}_aligned.png\"), composite_image)\n",
    "    cv2.imwrite(os.path.join(output_dir, f\"{os.path.splitext(os.path.basename(image_paths[1]))[0]}_aligned.png\"), aligned_imageA)\n",
    "\n",
    "    # Apply the same affine transformation to the rest of the images and save them\n",
    "    for image_path in image_paths[2:]:\n",
    "        image = cv2.imread(image_path)\n",
    "        aligned_image = cv2.warpAffine(image, affine_matrix, (composite_image.shape[1], composite_image.shape[0]))\n",
    "        \n",
    "        aligned_image_path = os.path.join(output_dir, f\"{os.path.splitext(os.path.basename(image_path))[0]}_aligned.png\")\n",
    "        cv2.imwrite(aligned_image_path, aligned_image)\n",
    "\n",
    "    print(f\"All aligned images have been saved in the directory: {output_dir}\")\n",
    "\n",
    "if __name__ == \"__main__\":\n",
    "    main()"
   ]
  },
  {
   "cell_type": "markdown",
   "id": "7a9e4152",
   "metadata": {},
   "source": [
    "# Batch Operation"
   ]
  },
  {
   "cell_type": "code",
   "execution_count": null,
   "id": "2322d8b7",
   "metadata": {},
   "outputs": [],
   "source": []
  },
  {
   "cell_type": "code",
   "execution_count": null,
   "id": "a7068486",
   "metadata": {},
   "outputs": [],
   "source": [
    "'''\n",
    "    Run `align_images_with_padding` function first\n",
    "'''"
   ]
  },
  {
   "cell_type": "code",
   "execution_count": null,
   "id": "266fbfa4",
   "metadata": {},
   "outputs": [],
   "source": [
    "import os\n",
    "import re\n",
    "\n",
    "def find_corresponding_cp_file(seg_file, cp_dir,thin_section_name):\n",
    "    # Replace the segment of the filename to match the CP naming convention\n",
    "    cp_file = seg_file.replace(thin_section_name, f'{thin_section_name}_CP')\n",
    "    cp_file_path = os.path.join(cp_dir, cp_file)\n",
    "    if os.path.exists(cp_file_path):\n",
    "        return cp_file_path\n",
    "    else:\n",
    "        return None\n",
    "\n",
    "def process_image_pairs(seg_dir, cp_dir,thin_section_name, output_dir):\n",
    "    # List all files in the 'Seg' directory\n",
    "    seg_files = [f for f in os.listdir(seg_dir) if os.path.isfile(os.path.join(seg_dir, f))]\n",
    "    \n",
    "    # Iterate over each file in 'Seg' directory\n",
    "    for seg_file in seg_files:\n",
    "        # Find the corresponding 'CP' file\n",
    "        cp_file_path = find_corresponding_cp_file(seg_file, cp_dir,thin_section_name)\n",
    "        \n",
    "        # If the corresponding file is found\n",
    "        if cp_file_path:\n",
    "            # Construct full path for 'Seg' file\n",
    "            seg_file_path = os.path.join(seg_dir, seg_file)\n",
    "            \n",
    "            # Run the alignment and cropping function\n",
    "            cropped_image1_path, cropped_image2_path = align_images_with_padding(seg_file_path, cp_file_path, output_dir)\n",
    "            \n",
    "            print(f\"Processed {seg_file} and its corresponding CP file: {os.path.basename(cp_file_path)}.\")\n",
    "        else:\n",
    "            print(f\"No corresponding CP file found for {seg_file}.\")\n"
   ]
  },
  {
   "cell_type": "code",
   "execution_count": null,
   "id": "89c0176d",
   "metadata": {},
   "outputs": [],
   "source": [
    "# Define the directories\n",
    "thin_section_name = 'U1454b_#20'\n",
    "seg_dir = f'1_Data/{thin_section_name}/{thin_section_name}'\n",
    "cp_dir = f'1_Data/{thin_section_name}/{thin_section_name}_CP'\n",
    "output_dir = f'1_Data/{thin_section_name}/Aligned_{thin_section_name}'\n",
    "# Run the processing function\n",
    "process_image_pairs(seg_dir, cp_dir, thin_section_name, output_dir)"
   ]
  },
  {
   "cell_type": "markdown",
   "id": "e9322e69",
   "metadata": {},
   "source": [
    "# Customized Batch Operation Inside the Folder"
   ]
  },
  {
   "cell_type": "code",
   "execution_count": null,
   "id": "a5fcd01c",
   "metadata": {},
   "outputs": [],
   "source": [
    "'''\n",
    "    Run `align_images_with_padding` function first\n",
    "'''"
   ]
  },
  {
   "cell_type": "code",
   "execution_count": null,
   "id": "058435fc",
   "metadata": {},
   "outputs": [],
   "source": [
    "import os\n",
    "import re\n",
    "import shutil\n",
    "\n",
    "def find_corresponding_cp_file(seg_file, cp_dir):\n",
    "    # Replace the segment of the filename to match the CP naming convention\n",
    "    cp_file = seg_file.replace('Mbsf_Cropped', 'Mbsf_CP_Cropped')\n",
    "    cp_file_path = os.path.join(cp_dir, cp_file)\n",
    "    if os.path.exists(cp_file_path):\n",
    "        return cp_file_path\n",
    "    else:\n",
    "        return None\n",
    "\n",
    "def extract_index_from_filename(filename):\n",
    "    # Use regex to extract the index from the filename\n",
    "    match = re.search(r'512_(\\d+)\\.png', filename)\n",
    "    if match:\n",
    "        return int(match.group(1))\n",
    "    else:\n",
    "        return None\n",
    "\n",
    "def process_image_pairs(seg_dir, cp_dir, min_index, max_index):\n",
    "    # List all files in the 'Seg' directory\n",
    "    seg_files = [f for f in os.listdir(seg_dir) if os.path.isfile(os.path.join(seg_dir, f))]\n",
    "    \n",
    "    # Iterate over each file in 'Seg' directory\n",
    "    for seg_file in seg_files:\n",
    "        # Extract the index from the filename\n",
    "        index = extract_index_from_filename(seg_file)\n",
    "        \n",
    "        # Continue only if the index is within the specified range\n",
    "        if index is not None and min_index <= index <= max_index:\n",
    "            # Find the corresponding 'CP' file\n",
    "            cp_file_path = find_corresponding_cp_file(seg_file, cp_dir)\n",
    "            \n",
    "            # If the corresponding file is found\n",
    "            if cp_file_path:\n",
    "                # Construct full path for 'Seg' file\n",
    "                seg_file_path = os.path.join(seg_dir, seg_file)\n",
    "                \n",
    "                # Run the alignment and cropping function (assuming it's defined elsewhere)\n",
    "                cropped_image1_path, cropped_image2_path = align_images_with_padding(seg_file_path, cp_file_path)\n",
    "                \n",
    "                print(f\"Processed {seg_file} and its corresponding CP file: {os.path.basename(cp_file_path)}.\")\n",
    "            else:\n",
    "                print(f\"No corresponding CP file found for {seg_file}.\")\n",
    "        else:\n",
    "            print(f\"Skipping {seg_file} due to index not being in range.\")"
   ]
  },
  {
   "cell_type": "code",
   "execution_count": null,
   "id": "57a0defe",
   "metadata": {},
   "outputs": [],
   "source": [
    "# Define the directories and index range\n",
    "seg_dir = 'Seged'\n",
    "cp_dir = 'CP'\n",
    "min_index = 24\n",
    "max_index = 53\n",
    "\n",
    "# Run the processing function\n",
    "process_image_pairs(seg_dir, cp_dir, min_index, max_index)"
   ]
  }
 ],
 "metadata": {
  "kernelspec": {
   "display_name": "d2l",
   "language": "python",
   "name": "python3"
  },
  "language_info": {
   "codemirror_mode": {
    "name": "ipython",
    "version": 3
   },
   "file_extension": ".py",
   "mimetype": "text/x-python",
   "name": "python",
   "nbconvert_exporter": "python",
   "pygments_lexer": "ipython3",
   "version": "3.11.9"
  },
  "toc": {
   "base_numbering": 1,
   "nav_menu": {},
   "number_sections": true,
   "sideBar": true,
   "skip_h1_title": false,
   "title_cell": "Table of Contents",
   "title_sidebar": "Contents",
   "toc_cell": false,
   "toc_position": {},
   "toc_section_display": true,
   "toc_window_display": false
  },
  "varInspector": {
   "cols": {
    "lenName": 16,
    "lenType": 16,
    "lenVar": 40
   },
   "kernels_config": {
    "python": {
     "delete_cmd_postfix": "",
     "delete_cmd_prefix": "del ",
     "library": "var_list.py",
     "varRefreshCmd": "print(var_dic_list())"
    },
    "r": {
     "delete_cmd_postfix": ") ",
     "delete_cmd_prefix": "rm(",
     "library": "var_list.r",
     "varRefreshCmd": "cat(var_dic_list()) "
    }
   },
   "types_to_exclude": [
    "module",
    "function",
    "builtin_function_or_method",
    "instance",
    "_Feature"
   ],
   "window_display": false
  }
 },
 "nbformat": 4,
 "nbformat_minor": 5
}
